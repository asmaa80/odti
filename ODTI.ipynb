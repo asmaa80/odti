{
 "cells": [
  {
   "cell_type": "markdown",
   "id": "71a71552",
   "metadata": {},
   "source": [
    "# ODTI DÉPARTEMENTS"
   ]
  },
  {
   "cell_type": "markdown",
   "id": "2516ccee",
   "metadata": {},
   "source": [
    "### 1 Le Département de Logement\n"
   ]
  },
  {
   "cell_type": "markdown",
   "id": "da098ab6",
   "metadata": {},
   "source": [
    "<a href=\"https://nbviewer.jupyter.org/github/asmaa80/ODTI-Logements/blob/main/Logements-2018.ipynb\" >Les Residents en 2018</a>"
   ]
  },
  {
   "cell_type": "markdown",
   "id": "23d1523a",
   "metadata": {},
   "source": [
    "<a href=\"https://nbviewer.jupyter.org/github/asmaa80/ODTI_Departements/blob/main/Logements-2019.ipynb\" >Les Residents en 2019</a>\n",
    "\n"
   ]
  },
  {
   "cell_type": "markdown",
   "id": "05df46a4",
   "metadata": {},
   "source": [
    "<a href=\"https://nbviewer.jupyter.org/github/asmaa80/ODTI_Departements/blob/Logements/Logements__2020.ipynb\" >Les Residents en 2020</a>"
   ]
  },
  {
   "cell_type": "markdown",
   "id": "c6a46482",
   "metadata": {},
   "source": [
    "<a href=\"https://nbviewer.jupyter.org/github/asmaa80/ODTI-/blob/main/Logements_total_en_2018_2019_2020.ipynb\" >Les Residents en 2018 , 2019 et 2020</a>"
   ]
  },
  {
   "cell_type": "markdown",
   "id": "b843cc3e",
   "metadata": {},
   "source": [
    "### 2 Le Département de Langue Française\n"
   ]
  },
  {
   "cell_type": "markdown",
   "id": "73882eb0",
   "metadata": {},
   "source": [
    "<a href=\"https://nbviewer.jupyter.org/github/asmaa80/ODTI_Departements/blob/main/langue_nationalit%C3%A9-2018.ipynb\" >Langue Française en 2018</a>"
   ]
  },
  {
   "cell_type": "markdown",
   "id": "4ee95a5c",
   "metadata": {},
   "source": [
    "<a href=\"https://nbviewer.jupyter.org/github/asmaa80/ODTI_Departements/blob/Langue_Fran%C3%A7aise/langue_fran%C3%A7aise_2019.ipynb\" >Langue Française en 2019</a>"
   ]
  },
  {
   "cell_type": "markdown",
   "id": "03c8f40e",
   "metadata": {},
   "source": [
    "<a href=\"https://nbviewer.jupyter.org/github/asmaa80/odti/blob/main/langue_fran%C3%A7aise%202020.ipynb\" >Langue Française en 2020</a>"
   ]
  },
  {
   "cell_type": "markdown",
   "id": "e404f396",
   "metadata": {},
   "source": [
    "<a href=\"https://nbviewer.jupyter.org/github/asmaa80/odti/blob/main/atelier_de_langue.ipynb\" >Langue Française en 2018 , 2019 et 2020</a>"
   ]
  },
  {
   "cell_type": "markdown",
   "id": "a1fefeca",
   "metadata": {},
   "source": [
    "### 3 Le Département de Soutien Psychologique\n"
   ]
  },
  {
   "cell_type": "markdown",
   "id": "20fc6d16",
   "metadata": {},
   "source": [
    "<a href=\"https://nbviewer.jupyter.org/github/asmaa80/ODTI_Soutien-psychologique-/blob/main/Soutien_Psychologique_2019_.ipynb\" >Soutien Psychologique en 2019 </a>"
   ]
  },
  {
   "cell_type": "markdown",
   "id": "4b91a100",
   "metadata": {},
   "source": [
    "<a href=\"https://nbviewer.jupyter.org/github/asmaa80/Soutien_Psychologique_20/blob/main/Soutien_Psychologique_20.ipynb\" >Soutien Psychologique en 2020 </a>"
   ]
  },
  {
   "cell_type": "markdown",
   "id": "d31d05f2",
   "metadata": {},
   "source": [
    "<a href=\"https://nbviewer.jupyter.org/github/asmaa80/ODTI_atelier_de_langue/blob/main/atelier_de_langue1.ipynb\" >Soutien Psychologique en 2019 et 2020 </a>"
   ]
  },
  {
   "cell_type": "markdown",
   "id": "e8aa924e",
   "metadata": {},
   "source": [
    "### 4 Le Département de Juridique\n"
   ]
  },
  {
   "cell_type": "markdown",
   "id": "aec43db3",
   "metadata": {},
   "source": [
    "<a href=\"https://nbviewer.jupyter.org/github/asmaa80/ODTI_Departements/blob/Logiciels/demo-etran-ina-cho-desc-immig-2020.ipynb\" >Demo-etran-ina-cho-desc-immig en 2020</a>"
   ]
  },
  {
   "cell_type": "markdown",
   "id": "dd8b4cee",
   "metadata": {},
   "source": [
    "<a href=\"https://nbviewer.jupyter.org/github/asmaa80/ODTI_logiciels/blob/main/demo-etran-ina-cho-immig-2020.ipynb\" >Demo-etran-ina-cho-immig en 2020</a>"
   ]
  },
  {
   "cell_type": "markdown",
   "id": "57028cac",
   "metadata": {},
   "source": [
    "<a href=\"https://nbviewer.jupyter.org/github/asmaa80/ODTI_logiciel_2020/blob/main/total.ipynb\" >Demo-etran-ina-cho-immig-et-desc-immig en 2020</a>"
   ]
  }
 ],
 "metadata": {
  "kernelspec": {
   "display_name": "Python 3",
   "language": "python",
   "name": "python3"
  },
  "language_info": {
   "codemirror_mode": {
    "name": "ipython",
    "version": 3
   },
   "file_extension": ".py",
   "mimetype": "text/x-python",
   "name": "python",
   "nbconvert_exporter": "python",
   "pygments_lexer": "ipython3",
   "version": "3.9.6"
  }
 },
 "nbformat": 4,
 "nbformat_minor": 5
}
